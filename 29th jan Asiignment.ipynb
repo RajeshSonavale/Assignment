{
 "cells": [
  {
   "cell_type": "code",
   "execution_count": 13,
   "id": "0c91e51b-2ac3-4763-bb3d-f2d533e9f281",
   "metadata": {},
   "outputs": [],
   "source": [
    "                     # 29TH JANUARY ASSIGNMENT "
   ]
  },
  {
   "cell_type": "code",
   "execution_count": null,
   "id": "9cb1f708-ce7e-4926-9935-735853f41894",
   "metadata": {},
   "outputs": [],
   "source": []
  },
  {
   "cell_type": "code",
   "execution_count": 14,
   "id": "93490aa1-f681-49cf-8359-6dffa62aaac4",
   "metadata": {},
   "outputs": [],
   "source": [
    "# Q1 Ans: Guido Van Rossum Devloped python programming language."
   ]
  },
  {
   "cell_type": "code",
   "execution_count": 15,
   "id": "f288416a-044b-47dc-a6f4-f218db4bc080",
   "metadata": {},
   "outputs": [],
   "source": [
    "#Q2 Ans: python is an interpreted Programming language suporting Object-oriented programming, Structured, and functional programming"
   ]
  },
  {
   "cell_type": "code",
   "execution_count": 16,
   "id": "c64ed654-aebf-4f8e-a1c6-10eb06ae172b",
   "metadata": {},
   "outputs": [],
   "source": [
    "#Q3 Ans: Yes, Python is a case sensetive language."
   ]
  },
  {
   "cell_type": "code",
   "execution_count": 17,
   "id": "8f77f3c8-b2cd-46fc-9526-9e524f214958",
   "metadata": {},
   "outputs": [],
   "source": [
    "#Q4 Ans: the Extention for python files is (.py)"
   ]
  },
  {
   "cell_type": "code",
   "execution_count": 19,
   "id": "753ce6f7-faab-4f5a-9882-2606948a4f87",
   "metadata": {},
   "outputs": [],
   "source": [
    "#Q5 Ans: python code is interpreted"
   ]
  },
  {
   "cell_type": "code",
   "execution_count": 20,
   "id": "74dfc61d-ae7a-456b-85ae-08a77843ddbf",
   "metadata": {},
   "outputs": [],
   "source": [
    "#Q6 Ans: A module,a function body,class defination"
   ]
  },
  {
   "cell_type": "code",
   "execution_count": 21,
   "id": "17e15d0f-cc14-4396-a56a-623f42dc048f",
   "metadata": {},
   "outputs": [],
   "source": [
    "#Q7 Ans:We can write a Single line comment by adding a Single # character"
   ]
  },
  {
   "cell_type": "code",
   "execution_count": 22,
   "id": "1124201a-af44-4480-b205-e5d70dcee1d3",
   "metadata": {},
   "outputs": [],
   "source": [
    "#Q8:python_version() function is used to find currentely working version "
   ]
  },
  {
   "cell_type": "code",
   "execution_count": 23,
   "id": "a026ac5c-c806-4d87-b85b-77fdf1819db5",
   "metadata": {},
   "outputs": [],
   "source": [
    "#Q9: Python supports the creation of anonymoud function at runtime using constructor Lambda"
   ]
  },
  {
   "cell_type": "code",
   "execution_count": 24,
   "id": "6618b88b-b815-4397-a42f-e5043ec18fcf",
   "metadata": {},
   "outputs": [],
   "source": [
    "#Q10: PIP is a recursive acronym for \"Preferred Installer Program\" or a PIP installs Packages"
   ]
  },
  {
   "cell_type": "code",
   "execution_count": 25,
   "id": "443b01b3-b98b-48f3-afdb-e3e1a6569e3b",
   "metadata": {},
   "outputs": [],
   "source": [
    "#Q11 Ans: thier are some in built functions in python are typr(),next(),min(),max(),print(),sum(),len(),range()."
   ]
  },
  {
   "cell_type": "code",
   "execution_count": 26,
   "id": "10d9ceb2-fa82-4c04-a167-5e2d8ccf35e6",
   "metadata": {},
   "outputs": [],
   "source": [
    "#Q12 Ans: An identifire can have a maximum length of 79 characters"
   ]
  },
  {
   "cell_type": "code",
   "execution_count": 27,
   "id": "78536146-658b-453f-a421-e5bd3b9ec283",
   "metadata": {},
   "outputs": [],
   "source": [
    "#Q13 Ans: Libraries help reduce coding errors , make programme more efficient , make code smaller size, no need to declare date types."
   ]
  },
  {
   "cell_type": "code",
   "execution_count": 28,
   "id": "1b170f0d-a6e1-4d21-b459-dab6040b7310",
   "metadata": {},
   "outputs": [],
   "source": [
    "#Q14 Ans: Memmory managed in python involves a private heap containning all python objects and data structures."
   ]
  },
  {
   "cell_type": "code",
   "execution_count": 29,
   "id": "35a7cf6d-5c25-4a3d-beae-1f93c490710a",
   "metadata": {},
   "outputs": [],
   "source": [
    "#Q15 Ans: Open a broweser to python website and downlad the window installer. Right cliking this Pc and going to properties. \n",
    "#clicking on the advanced system setting in menu on the left\n",
    "#clicking on the Envirnment Variables button on the bottom Right\n",
    "# in the system varible section, selecting the path variable and clicking on edit\n",
    "#clicking the new and entering python install directory"
   ]
  },
  {
   "cell_type": "code",
   "execution_count": 30,
   "id": "cacbfd8a-8eec-44ba-9884-00bd2d818f20",
   "metadata": {},
   "outputs": [],
   "source": [
    "#Q16 Ans: the indentation in python is very importanat"
   ]
  },
  {
   "cell_type": "code",
   "execution_count": null,
   "id": "92790fa1-6d09-4661-8140-19944227e0bb",
   "metadata": {},
   "outputs": [],
   "source": []
  }
 ],
 "metadata": {
  "kernelspec": {
   "display_name": "Python 3 (ipykernel)",
   "language": "python",
   "name": "python3"
  },
  "language_info": {
   "codemirror_mode": {
    "name": "ipython",
    "version": 3
   },
   "file_extension": ".py",
   "mimetype": "text/x-python",
   "name": "python",
   "nbconvert_exporter": "python",
   "pygments_lexer": "ipython3",
   "version": "3.10.6"
  }
 },
 "nbformat": 4,
 "nbformat_minor": 5
}
